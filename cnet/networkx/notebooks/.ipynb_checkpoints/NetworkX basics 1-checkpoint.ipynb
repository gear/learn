{
 "cells": [
  {
   "cell_type": "markdown",
   "metadata": {},
   "source": [
    "## NetworkX basics\n",
    "\n",
    "[phs5116](http://barabasilab.neu.edu/courses/phys5116/) is a Network Science course taught by professor Barabasi. This notebook is copied from the class' hand-on section."
   ]
  },
  {
   "cell_type": "code",
   "execution_count": 1,
   "metadata": {
    "collapsed": true
   },
   "outputs": [],
   "source": [
    "import numpy as np\n",
    "import networkx as nx\n",
    "import matplotlib.pyplot as plt\n",
    "import matplotlib as mpl\n",
    "%matplotlib inline"
   ]
  },
  {
   "cell_type": "markdown",
   "metadata": {},
   "source": [
    "Change the default drawing for matplotlib (to be less ugly)."
   ]
  },
  {
   "cell_type": "code",
   "execution_count": 2,
   "metadata": {
    "collapsed": true
   },
   "outputs": [],
   "source": [
    "mpl.rc('xtick', labelsize=14, color=\"#222222\")\n",
    "mpl.rc('ytick', labelsize=14, color=\"#222222\")\n",
    "mpl.rc('font', **{'family': 'sans-serif', \n",
    "                  'sans-serif': ['Arial']})\n",
    "mpl.rc('font', size=16)\n",
    "mpl.rc('xtick.major', size=6, width=1)\n",
    "mpl.rc('xtick.minor', size=3, width=1)\n",
    "mpl.rc('ytick.major', size=6, width=1)\n",
    "mpl.rc('ytick.minor', size=3, width=1)\n",
    "mpl.rc('axes', linewidth=1, edgecolor=\"#222222\",\n",
    "       labelcolor=\"#222222\")\n",
    "mpl.rc('text', usetex=False, color=\"#222222\")"
   ]
  },
  {
   "cell_type": "code",
   "execution_count": 3,
   "metadata": {
    "collapsed": true
   },
   "outputs": [],
   "source": [
    "# Print out module: dir(nx)"
   ]
  },
  {
   "cell_type": "markdown",
   "metadata": {},
   "source": [
    "## Basic data types\n",
    "\n",
    "**Graph** - Undirected graph with self loops.\n",
    "\n",
    "**DiGraph** - Directed graph with self loops.\n",
    "\n",
    "**MultiGraph** - Undirected graph with self loops and multiple edges.\n",
    "\n",
    "**MultiDiGraph** - Directed Graph with self loops and multiple edges."
   ]
  },
  {
   "cell_type": "code",
   "execution_count": 5,
   "metadata": {
    "collapsed": false
   },
   "outputs": [],
   "source": [
    "G = nx.Graph()"
   ]
  },
  {
   "cell_type": "markdown",
   "metadata": {},
   "source": [
    "## Nodes\n",
    "\n",
    "Nodes can be anything hashable."
   ]
  },
  {
   "cell_type": "code",
   "execution_count": 6,
   "metadata": {
    "collapsed": true
   },
   "outputs": [],
   "source": [
    "G.add_node(0)\n",
    "G.add_node(\"John\")\n",
    "pos = (0.2, 2.8)\n",
    "G.add_node(pos)"
   ]
  },
  {
   "cell_type": "code",
   "execution_count": 7,
   "metadata": {
    "collapsed": true
   },
   "outputs": [],
   "source": [
    "G.add_nodes_from([1,2,3])"
   ]
  },
  {
   "cell_type": "markdown",
   "metadata": {},
   "source": [
    "## Node attributes\n",
    "\n",
    "Nodes can have arbitary attributes associated with them, contained in a string-index dictionary."
   ]
  },
  {
   "cell_type": "code",
   "execution_count": 8,
   "metadata": {
    "collapsed": true
   },
   "outputs": [],
   "source": [
    "G.add_node(\"Jean\", eye_color='red', height=5.4)"
   ]
  },
  {
   "cell_type": "code",
   "execution_count": 9,
   "metadata": {
    "collapsed": true
   },
   "outputs": [],
   "source": [
    "G.add_node(\"Einstein\")\n",
    "G.node[\"Einstein\"][\"citations\"] = 10**6"
   ]
  },
  {
   "cell_type": "code",
   "execution_count": 10,
   "metadata": {
    "collapsed": false
   },
   "outputs": [
    {
     "data": {
      "text/plain": [
       "[0, 1, 2, 3, 'John', 'Einstein', 'Jean', (0.2, 2.8)]"
      ]
     },
     "execution_count": 10,
     "metadata": {},
     "output_type": "execute_result"
    }
   ],
   "source": [
    "G.nodes()"
   ]
  },
  {
   "cell_type": "code",
   "execution_count": null,
   "metadata": {
    "collapsed": true
   },
   "outputs": [],
   "source": []
  }
 ],
 "metadata": {
  "anaconda-cloud": {},
  "kernelspec": {
   "display_name": "Python [conda env:cnet]",
   "language": "python",
   "name": "conda-env-cnet-py"
  },
  "language_info": {
   "codemirror_mode": {
    "name": "ipython",
    "version": 3
   },
   "file_extension": ".py",
   "mimetype": "text/x-python",
   "name": "python",
   "nbconvert_exporter": "python",
   "pygments_lexer": "ipython3",
   "version": "3.5.2"
  }
 },
 "nbformat": 4,
 "nbformat_minor": 2
}
