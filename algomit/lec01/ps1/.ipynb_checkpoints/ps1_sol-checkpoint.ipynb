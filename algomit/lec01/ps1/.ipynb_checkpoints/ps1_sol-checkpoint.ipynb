{
 "cells": [
  {
   "cell_type": "markdown",
   "metadata": {},
   "source": [
    "# MIT Introduction to Algorithm Problem Set 1"
   ]
  },
  {
   "cell_type": "markdown",
   "metadata": {},
   "source": [
    "## Part 1: Theoretical Practice"
   ]
  },
  {
   "cell_type": "markdown",
   "metadata": {},
   "source": [
    "### Problem 1-1: Asymptotic Practice\n",
    "For each group of functions, sort the functions in increasing order of asymtotic (big-O) complexity:\n",
    "\n",
    "- Group 1:\n",
    "\n",
    "$ \\hspace{1em} f_1(n) = n^0.999999 \\log n $\n",
    "\n",
    "$ \\hspace{1em} f_2(n) = 10000000n $\n",
    "\n",
    "$ \\hspace{1em} f_3(n) = 1.000001^n $\n",
    "\n",
    "$ \\hspace{1em} f_4(n) = n^2 $\n",
    "\n",
    "__Answer:__ $f_2 \\rightarrow f_1 \\rightarrow f_4 \\rightarrow f_3$\n",
    "\n",
    "- Group 2:\n",
    "\n",
    "$ \\hspace{1em} f_1(n) = 2^{2^1000000} $\n",
    "\n",
    "$ \\hspace{1em} f_2(n) = 2^{100000n} $\n",
    "\n",
    "$ \\hspace{1em} f_3(n) = \\binom{n}{2} $\n",
    "\n",
    "$ \\hspace{1em} f_4(n) = n\\sqrt{n} $\n",
    "\n",
    "__Answer:__ $f_1 \\rightarrow f_4 \\rightarrow f_3 \\rightarrow f_2$\n",
    "\n",
    "- Group 3:\n",
    "\n",
    "$ \\hspace{1em} f_1(n) = n^{sqrt{n}} $\n",
    "\n",
    "$ \\hspace{1em} f_2(n) = 2^n $\n",
    "\n",
    "$ \\hspace{1em} f_3(n) = n^10 \\dot 2^{n/2} $\n",
    "\n",
    "$ \\hspace{1em} f_4(n) = \\sum_{i=1}^{n} (i+1) $\n",
    "\n",
    "__Answer:__ $f_4 \\rightarrow f_2 \\rightarrow f_3 \\rightarrow f_1$"
   ]
  },
  {
   "cell_type": "markdown",
   "metadata": {},
   "source": [
    "### Problem 1-2: Recurrence Relation Resolution\n",
    "For each of the following recurrence relations, pick the correct asymptotic runtime:\n",
    "\n",
    "- Select the correct asymptotic complexity of an algorithm with runtime $T(n,n)$ where:\n",
    "$$ T(x,c) = \\Theta (x), \\mbox{ for } c \\le 2, $$\n",
    "$$ T(c,y) = \\Theta (y), \\mbox{ for } c \\le 2, \\mbox{ and } $$\n",
    "$$ T(x,y) = \\Theta (x + y) + T(x/2, y/2). $$\n",
    "\n",
    "    1. $\\Theta(\\log n).$\n",
    "    2. $\\Theta(n).$\n",
    "    3. $\\Theta(n\\log n).$\n",
    "    4. $\\Theta(n\\log^2 n).$\n",
    "    5. $\\Theta(n^2).$\n",
    "    6. $\\Theta(2^n).$\n",
    "    \n",
    "__Answer:__ 2\n",
    "\n",
    "- Select the correct asymptotic complexity of an algorithm with runtime $T(n,n)$ where:\n",
    "$$ T(x,c) = \\Theta(x), \\mbox{ for } c \\le 2, $$\n",
    "$$ T(c,y) = \\Theta(y), \\mbox{ for } c \\le 2, \\mbox{ and } $$\n",
    "$$ T(x,y) = \\Theta(x) + T(x, y/2). $$\n",
    "\n",
    "    1. $\\Theta(\\log n).$\n",
    "    2. $\\Theta(n).$\n",
    "    3. $\\Theta(n\\log n).$\n",
    "    4. $\\Theta(n\\log^2 n).$\n",
    "    5. $\\Theta(n^2).$\n",
    "    6. $\\Theta(2^n).$\n",
    "    \n",
    "__Answer:__ 3\n",
    "\n",
    "- Select the correct asymptotic complexity of an algorithm with runtime $T(n,n)$ where:\n",
    "$$ T(x,c) = \\Theta(x), \\mbox{ for } c \\le 2, $$\n",
    "$$ T(x,y) = \\Theta(x) + S(x,y/2), $$\n",
    "$$ S(c,y) = \\Theta(y), \\mbox{ for } c \\le 2, \\mbox{ and } $$\n",
    "$$ S(x,y) = \\Theta(y) + T(x/2,y). $$\n",
    "\n",
    "    1. $\\Theta(\\log n).$\n",
    "    2. $\\Theta(n).$\n",
    "    3. $\\Theta(n\\log n).$\n",
    "    4. $\\Theta(n\\log^2 n).$\n",
    "    5. $\\Theta(n^2).$\n",
    "    6. $\\Theta(2^n).$\n",
    "    \n",
    "__Answer:__ 2"
   ]
  },
  {
   "cell_type": "markdown",
   "metadata": {},
   "source": [
    "## Part 2: Programming assignment - Peak finding"
   ]
  },
  {
   "cell_type": "markdown",
   "metadata": {},
   "source": [
    "### Problem 1-3: Peak-Finding Correctness"
   ]
  },
  {
   "cell_type": "code",
   "execution_count": 1,
   "metadata": {
    "collapsed": true
   },
   "outputs": [],
   "source": [
    "import algorithms as ps1"
   ]
  },
  {
   "cell_type": "code",
   "execution_count": 7,
   "metadata": {
    "collapsed": true
   },
   "outputs": [],
   "source": [
    "import peak"
   ]
  },
  {
   "cell_type": "code",
   "execution_count": 8,
   "metadata": {
    "collapsed": true
   },
   "outputs": [],
   "source": [
    "prob = peak.createProblem([[1,2,3,4], [4,2,5,7], [6,3,7,8], [9,5,3,2]])"
   ]
  },
  {
   "cell_type": "code",
   "execution_count": 9,
   "metadata": {
    "collapsed": false
   },
   "outputs": [
    {
     "data": {
      "text/plain": [
       "(2, 3)"
      ]
     },
     "execution_count": 9,
     "metadata": {},
     "output_type": "execute_result"
    }
   ],
   "source": [
    "ps1.algorithm1(prob, None)"
   ]
  },
  {
   "cell_type": "markdown",
   "metadata": {
    "collapsed": true
   },
   "source": [
    "(a) Function ```algorithm1``` works as follow:\n",
    "- Divide the problem (matrix) into 2 parts\n",
    "- Locate the middle column\n",
    "- Search for global maximum in the middle column\n",
    "- For the found global maximum, locate the larger neighboor\n",
    "- Repeat the process for the half (columns) that contains the larger neighboor\n",
    "\n",
    "__Answer:__ algorithm1 is correct."
   ]
  },
  {
   "cell_type": "markdown",
   "metadata": {},
   "source": [
    "(b) Function ```algorithm2``` works as follow:\n",
    "- Start from top left corner (0,0)\n",
    "- Search for larger neighboor with priority order: up, left, down, right\n",
    "- Terminate when there is no larger neighboor\n",
    "\n",
    "__Answer__: algorithm2 is correct."
   ]
  },
  {
   "cell_type": "markdown",
   "metadata": {},
   "source": [
    "(c) Function ```algorithm3``` works as follow:\n",
    "- Divide the problem horizontally and vertically (by a cross)\n",
    "- Search for global maximum value within the cross\n",
    "- Choose the better neighboor of the maximum value and its corresponding sub-problem\n",
    "- Repeat the process until the global maximum in the cross doesn't have a better neighboor\n",
    "\n",
    "This algorithm choosen the subproblem using 'bestSeen', but 'bestSeen' only serves as the subproblem selector. The only comparison with the discarded array is 'bestSeen'. Therefore, the algorithm is not guaranteed to run correctly since the returned value (if it wasn't a best seen from beginning) is not compared to the discarded elements.\n",
    "\n",
    "__Answer:__ algorithm3 is incorrect."
   ]
  },
  {
   "cell_type": "markdown",
   "metadata": {},
   "source": [
    "(d) Function ```algorithm4``` works as follow:\n",
    "- Divide the problem in half, alternating between horizontal and vertical each recursive call.\n",
    "- Choose the global maximum in the divider.\n",
    "- Choose the larger neighboor of the maxima as 'bestSeen' if this 'bestSeen' is larger than the previous bestSeen.\n",
    "- Return the result if the best neighboor is also the global maxima of the divider and if this value is larger or equal the current 'bestSeen'.\n",
    "\n",
    "Here, 'bestSeen' serves as the subproblem selector and also the maximum value of the past divider. Therefore, if a result is returned, it is guaranteed to be larger than any of the discarded dividers and also peak in its current subproblem.\n",
    "\n",
    "__Answer:__ algorithm4 is correct."
   ]
  },
  {
   "cell_type": "markdown",
   "metadata": {},
   "source": [
    "### Problem 1-4: Peak-Finding Efficiency"
   ]
  },
  {
   "cell_type": "markdown",
   "metadata": {},
   "source": [
    "(a) Worst-case runtime of ```algorithm1``` on a problem of size n-by-n: \n",
    "\n",
    "$ \\hspace{1em} \\Theta(n\\log(n)) $\n",
    "\n",
    "Recursion cost: $ T(n \\times n) = \\Theta(n) + \\Theta(1) + T(n \\times n/2) $"
   ]
  },
  {
   "cell_type": "markdown",
   "metadata": {},
   "source": [
    "(b) Worst-case runtime of ```algorithm2``` on a problem of size n-by-n:\n",
    "\n",
    "$ \\hspace{1em} \\Theta(n^2) $\n",
    "\n",
    "Recursion cost: $ T(n \\times n) = \\Theta(1) + T(n \\times n - 1) $"
   ]
  },
  {
   "cell_type": "markdown",
   "metadata": {},
   "source": [
    "(c) Worst-case runtime of ```algorithm3``` on a problem of size n-by-n:\n",
    "\n",
    "$ \\hspace{1em} \\Theta(n) $\n",
    "\n",
    "Recursion cost: $ T(n \\times n) = \\Theta(2n) + \\Theta(1) + T(n/4 \\times n/4) $ "
   ]
  },
  {
   "cell_type": "markdown",
   "metadata": {},
   "source": [
    "(d) Worst-case runtime of ```algorithm4``` on a problem of size n-by-n:\n",
    "\n",
    "$ \\hspace{1em} \\Theta(n) $\n",
    "\n",
    "Recursion cost: \n",
    "\n",
    "$ T(n \\times n) = \\Theta(n) + \\Theta(1) + T(n \\times n/2) $\n",
    "\n",
    "$ T(n \\times n/2) = \\Theta(n/2) + \\Theta(1) + T(n/2 \\times n/2) $"
   ]
  },
  {
   "cell_type": "markdown",
   "metadata": {},
   "source": [
    "### Problem 1-5: Peak-Finding Proof"
   ]
  },
  {
   "cell_type": "markdown",
   "metadata": {},
   "source": [
    "The most efficient correct algorithm among ```algorithm4, algorithm2, algorithm3``` is ```algorithm4``` since it has worst case running time of $\\Theta(n)$ and it is correct.\n",
    "\n",
    "__Proof:__\n",
    "\n",
    "If the peak problem is not empty, then ```algorithm4``` will always return a location.\n",
    "1. Start with the problem size of $m \\times n$. The recursive subproblems examined by ```algorithm4``` will have dimensions $m \\times n/2$ and $m/2 \\times n/2$ in the recursive subproblems after that. Since the size of subproblem decreases with each recursive call, so ```algorithm4``` will return a peak at some point or reaches the smallest subproblems. The only way that ```algorithm4``` cannot return a result is that the subproblem size is negative or 0. However, such cases is impossible. The condition for returning a location is that it has no larger neighboor and also the returned is larger or equal the bestSeen. \n",
    "2. If algorithm return $(r,q)$, then we know that this location has the largest value out of its subproblem's neighboor and also larger or equal the value of bestSeen. The bestSeen value is guaranteed to be larger than any discarded divider values."
   ]
  },
  {
   "cell_type": "markdown",
   "metadata": {},
   "source": [
    "### Problem 1-6: Peak-Finding Counterexamples\n",
    "One possible counter example of ```algorithm3``` is when the subproblem is selected by a large value, but in the cross there is a clearly best location (not the bestSeen), but it's not the peak if consider the discarded divider.\n",
    "```python\n",
    "problemMatrix = [\n",
    "\t[1, 2, 9, 8, 5, 3, 2],\n",
    "\t[2, 2, 2, 1, 5, 3, 2],\n",
    "    [2, 3, 3, 1, 6, 5, 6],\n",
    "    [4, 7, 5, 3, 2, 3, 1],\n",
    "    [2, 0, 3, 5, 1, 4, 5],\n",
    "    [1, 7, 3, 5, 2, 2, 4],\n",
    "    [3, 4, 5, 1, 3, 4, 6]\n",
    "]\n",
    "```"
   ]
  },
  {
   "cell_type": "code",
   "execution_count": null,
   "metadata": {
    "collapsed": true
   },
   "outputs": [],
   "source": []
  }
 ],
 "metadata": {
  "kernelspec": {
   "display_name": "Python 2",
   "language": "python",
   "name": "python2"
  },
  "language_info": {
   "codemirror_mode": {
    "name": "ipython",
    "version": 2
   },
   "file_extension": ".py",
   "mimetype": "text/x-python",
   "name": "python",
   "nbconvert_exporter": "python",
   "pygments_lexer": "ipython2",
   "version": "2.7.11+"
  }
 },
 "nbformat": 4,
 "nbformat_minor": 0
}
