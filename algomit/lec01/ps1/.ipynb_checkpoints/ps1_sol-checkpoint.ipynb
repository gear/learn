{
 "cells": [
  {
   "cell_type": "markdown",
   "metadata": {},
   "source": [
    "# MIT Introduction to Algorithm Problem Set 1"
   ]
  },
  {
   "cell_type": "markdown",
   "metadata": {},
   "source": [
    "## Part 1: Theoretical Practice"
   ]
  },
  {
   "cell_type": "markdown",
   "metadata": {},
   "source": [
    "### Problem 1-1: Asymptotic Practice\n",
    "For each group of functions, sort the functions in increasing order of asymtotic (big-O) complexity:\n",
    "\n",
    "- Group 1:\n",
    "$$ f_1(n) = n^0.999999 \\log n $$\n",
    "$$ f_2(n) = 10000000n $$\n",
    "$$ f_3(n) = 1.000001^n $$\n",
    "$$ f_4(n) = n^2 $$\n",
    "\n",
    "__Answer:__ $f_2 \\rightarrow f_1 \\rightarrow f_4 \\rightarrow f_3$\n",
    "\n",
    "- Group 2:\n",
    "$$ f_1(n) = 2^{2^1000000} $$\n",
    "$$ f_2(n) = 2^{100000n} $$\n",
    "$$ f_3(n) = \\binom{n}{2} $$\n",
    "$$ f_4(n) = n\\sqrt{n} $$\n",
    "\n",
    "__Answer:__ $f_1 \\rightarrow f_4 \\rightarrow f_3 \\rightarrow f_2$\n",
    "\n",
    "- Group 3:\n",
    "$$ f_1(n) = n^{sqrt{n}} $$\n",
    "$$ f_2(n) = 2^n $$\n",
    "$$ f_3(n) = n^10 \\dot 2^{n/2} $$\n",
    "$$ f_4(n) = \\sum_{i=1}^{n} (i+1) $$\n",
    "\n",
    "__Answer:__ $f_4 \\rightarrow f_2 \\rightarrow f_3 \\rightarrow f_1$"
   ]
  },
  {
   "cell_type": "markdown",
   "metadata": {},
   "source": [
    "### Problem 1-2: Recurrence Relation Resolution\n",
    "For each of the following recurrence relations, pick the correct asymptotic runtime:\n",
    "\n",
    "- Select the correct asymptotic complexity of an algorithm with runtime $T(n,n)$ where:\n",
    "$$ T(x,c) = \\Theta (x), \\mbox{ for } c \\le 2, $$\n",
    "$$ T(c,y) = \\Theta (y), \\mbox{ for } c \\le 2, \\mbox{ and } $$\n",
    "$$ T(x,y) = \\Theta (x + y) + T(x/2, y/2). $$\n",
    "\n",
    "    1. $\\Theta(\\log n).$\n",
    "    2. $\\Theta(n).$\n",
    "    3. $\\Theta(n\\log n).$\n",
    "    4. $\\Theta(n\\log^2 n).$\n",
    "    5. $\\Theta(n^2).$\n",
    "    6. $\\Theta(2^n).$\n",
    "    \n",
    "__Answer:__ 2\n",
    "\n",
    "- Select the correct asymptotic complexity of an algorithm with runtime $T(n,n)$ where:\n",
    "$$ T(x,c) = \\Theta(x), \\mbox{ for } c \\le 2,\n",
    "$$ T(c,y) = \\Theta(y), \\mbox{ for } c \\le 2, \\mbox{ and } $$\n",
    "$$ T(x,y) = \\Theta(x) + T(x, y/2).\n",
    "\n",
    "    1. $\\Theta(\\log n).$\n",
    "    2. $\\Theta(n).$\n",
    "    3. $\\Theta(n\\log n).$\n",
    "    4. $\\Theta(n\\log^2 n).$\n",
    "    5. $\\Theta(n^2).$\n",
    "    6. $\\Theta(2^n).$\n",
    "    \n",
    "__Answer:__ 3\n",
    "\n",
    "- Select the correct asymptotic complexity of an algorithm with runtime $T(n,n)$ where:\n",
    "$$ T(x,c) = \\Theta(x), \\mbox{ for } c \\le 2, $$\n",
    "$$ T(x,y) = \\Theta(x) + S(x,y/2), $$\n",
    "$$ S(c,y) = \\Theta(y), \\mbox{ for } c \\le 2, \\mbox{ and } $$\n",
    "$$ S(x,y) = \\Theta(y) + T(x/2,y). $$\n",
    "\n",
    "    1. $\\Theta(\\log n).$\n",
    "    2. $\\Theta(n).$\n",
    "    3. $\\Theta(n\\log n).$\n",
    "    4. $\\Theta(n\\log^2 n).$\n",
    "    5. $\\Theta(n^2).$\n",
    "    6. $\\Theta(2^n).$\n",
    "    \n",
    "__Answer:__ 2"
   ]
  },
  {
   "cell_type": "markdown",
   "metadata": {},
   "source": [
    "## Part 2: Programming assignment - Peak finding"
   ]
  },
  {
   "cell_type": "markdown",
   "metadata": {},
   "source": [
    "### Problem 1-3: Peak-Finding Correctness"
   ]
  },
  {
   "cell_type": "code",
   "execution_count": 1,
   "metadata": {
    "collapsed": true
   },
   "outputs": [],
   "source": [
    "import algorithms as ps1"
   ]
  },
  {
   "cell_type": "code",
   "execution_count": 4,
   "metadata": {
    "collapsed": false
   },
   "outputs": [
    {
     "data": {
      "text/plain": [
       "<function algorithms.crossProduct>"
      ]
     },
     "execution_count": 4,
     "metadata": {},
     "output_type": "execute_result"
    }
   ],
   "source": [
    "ps1.crossProduct"
   ]
  },
  {
   "cell_type": "code",
   "execution_count": null,
   "metadata": {
    "collapsed": true
   },
   "outputs": [],
   "source": []
  },
  {
   "cell_type": "code",
   "execution_count": null,
   "metadata": {
    "collapsed": true
   },
   "outputs": [],
   "source": []
  },
  {
   "cell_type": "code",
   "execution_count": null,
   "metadata": {
    "collapsed": true
   },
   "outputs": [],
   "source": []
  },
  {
   "cell_type": "code",
   "execution_count": null,
   "metadata": {
    "collapsed": true
   },
   "outputs": [],
   "source": []
  },
  {
   "cell_type": "code",
   "execution_count": null,
   "metadata": {
    "collapsed": true
   },
   "outputs": [],
   "source": []
  }
 ],
 "metadata": {
  "kernelspec": {
   "display_name": "Python 2",
   "language": "python",
   "name": "python2"
  },
  "language_info": {
   "codemirror_mode": {
    "name": "ipython",
    "version": 2
   },
   "file_extension": ".py",
   "mimetype": "text/x-python",
   "name": "python",
   "nbconvert_exporter": "python",
   "pygments_lexer": "ipython2",
   "version": "2.7.11+"
  }
 },
 "nbformat": 4,
 "nbformat_minor": 0
}
