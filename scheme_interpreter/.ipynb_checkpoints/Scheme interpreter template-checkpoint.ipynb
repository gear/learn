{
 "cells": [
  {
   "cell_type": "code",
   "execution_count": 1,
   "metadata": {
    "collapsed": true
   },
   "outputs": [],
   "source": [
    "def tokenize(chars):\n",
    "    '''\n",
    "    Convert a string of characters into a list of tokens.\n",
    "    '''\n",
    "    return chars.replace('(', '( ').replace(')', ' ) ').split()"
   ]
  },
  {
   "cell_type": "code",
   "execution_count": 4,
   "metadata": {
    "collapsed": true
   },
   "outputs": [],
   "source": [
    "program = '(begin (define r 10) (* pi (* r r)))'"
   ]
  },
  {
   "cell_type": "code",
   "execution_count": 5,
   "metadata": {
    "collapsed": false
   },
   "outputs": [
    {
     "data": {
      "text/plain": [
       "['(',\n",
       " 'begin',\n",
       " '(',\n",
       " 'define',\n",
       " 'r',\n",
       " '10',\n",
       " ')',\n",
       " '(',\n",
       " '*',\n",
       " 'pi',\n",
       " '(',\n",
       " '*',\n",
       " 'r',\n",
       " 'r',\n",
       " ')',\n",
       " ')',\n",
       " ')']"
      ]
     },
     "execution_count": 5,
     "metadata": {},
     "output_type": "execute_result"
    }
   ],
   "source": [
    "tokenize(program)"
   ]
  },
  {
   "cell_type": "code",
   "execution_count": 6,
   "metadata": {
    "collapsed": true
   },
   "outputs": [],
   "source": [
    "Symbol = str\n",
    "List = list\n",
    "Number = (int, float)\n",
    "\n",
    "def atom(token):\n",
    "    '''\n",
    "    Numbers become numbers; every other token is a symbol.\n",
    "    '''\n",
    "    try: return int(token)\n",
    "    except ValueError:\n",
    "        try: return float(token)\n",
    "        except ValueError:\n",
    "            return Symbol(token)\n",
    "\n",
    "def read_from_tokens(tokens):\n",
    "    '''\n",
    "    Read an expression from a sequence of tokens.\n",
    "    '''\n",
    "    if len(tokens) == 0:\n",
    "        raise SyntaxError('unexpected EOF while reading')\n",
    "    token = tokens.pop(0)\n",
    "    if '(' == token:\n",
    "        L = []\n",
    "        while tokens[0] != ')':\n",
    "            L.append(read_from_tokens(tokens))\n",
    "        tokens.pop(0)\n",
    "        return L\n",
    "    elif ')' == token:\n",
    "        raise SyntaxError('unexpected )')\n",
    "    else:\n",
    "        return atom(token)\n",
    "\n",
    "def parse(program):\n",
    "    '''\n",
    "    Read a Scheme expression from a string.\n",
    "    '''\n",
    "    return read_from_tokens(tokenize(program))"
   ]
  },
  {
   "cell_type": "code",
   "execution_count": 7,
   "metadata": {
    "collapsed": true
   },
   "outputs": [],
   "source": [
    "program = \"(begin (define r 10) (* pi (* r r)))\""
   ]
  },
  {
   "cell_type": "code",
   "execution_count": 8,
   "metadata": {
    "collapsed": false
   },
   "outputs": [
    {
     "data": {
      "text/plain": [
       "['begin', ['define', 'r', 10], ['*', 'pi', ['*', 'r', 'r']]]"
      ]
     },
     "execution_count": 8,
     "metadata": {},
     "output_type": "execute_result"
    }
   ],
   "source": [
    "parse(program)"
   ]
  },
  {
   "cell_type": "code",
   "execution_count": 9,
   "metadata": {
    "collapsed": true
   },
   "outputs": [],
   "source": [
    "Env = dict"
   ]
  },
  {
   "cell_type": "code",
   "execution_count": 10,
   "metadata": {
    "collapsed": true
   },
   "outputs": [],
   "source": [
    "def standard_env():\n",
    "    '''\n",
    "    An environment with some Scheme standard procedures.\n",
    "    '''\n",
    "    import math, operator as op\n",
    "    env = Env()\n",
    "    env.update(vars(math))\n",
    "    env.update({\n",
    "            '+':op.add, '-':op.sub, '*':op.mul, '/':op.div,\n",
    "            '>':op.gt, '<':op.lt, '>=':op.ge, '<=':op.le, '=':op.eq,\n",
    "            'abs': abs,\n",
    "            'append': op.add,\n",
    "            'apply' : apply,\n",
    "            \n",
    "            \n",
    "        })"
   ]
  },
  {
   "cell_type": "code",
   "execution_count": null,
   "metadata": {
    "collapsed": true
   },
   "outputs": [],
   "source": []
  }
 ],
 "metadata": {
  "kernelspec": {
   "display_name": "Python 2",
   "language": "python",
   "name": "python2"
  },
  "language_info": {
   "codemirror_mode": {
    "name": "ipython",
    "version": 2
   },
   "file_extension": ".py",
   "mimetype": "text/x-python",
   "name": "python",
   "nbconvert_exporter": "python",
   "pygments_lexer": "ipython2",
   "version": "2.7.11+"
  }
 },
 "nbformat": 4,
 "nbformat_minor": 0
}
