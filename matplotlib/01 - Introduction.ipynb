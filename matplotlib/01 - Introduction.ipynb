{
 "cells": [
  {
   "cell_type": "markdown",
   "metadata": {},
   "source": [
    "# Chapter 1: Introduction"
   ]
  },
  {
   "cell_type": "markdown",
   "metadata": {},
   "source": [
    "__pylab__ is the top-most layer of matplotlib. It is used for quick one-off plotting from within a live Python session. To use with Jupyter Notebook, add ```%matplotlib inline``` in the very first cell before import."
   ]
  },
  {
   "cell_type": "code",
   "execution_count": 4,
   "metadata": {
    "collapsed": true
   },
   "outputs": [],
   "source": [
    "%matplotlib inline\n",
    "\n",
    "from pylab import *"
   ]
  },
  {
   "cell_type": "code",
   "execution_count": 7,
   "metadata": {
    "collapsed": false
   },
   "outputs": [
    {
     "data": {
      "text/plain": [
       "[<matplotlib.lines.Line2D at 0x7fee34b76590>]"
      ]
     },
     "execution_count": 7,
     "metadata": {},
     "output_type": "execute_result"
    },
    {
     "data": {
      "image/png": "[encoded data removed]",
      "text/plain": [
       "<matplotlib.figure.Figure at 0x7fee34c47990>"
      ]
     },
     "metadata": {},
     "output_type": "display_data"
    }
   ],
   "source": [
    "plot([1,2,3,7,1])"
   ]
  },
  {
   "cell_type": "code",
   "execution_count": 6,
   "metadata": {
    "collapsed": true
   },
   "outputs": [],
   "source": [
    "show() # Shows the plot, not needed when %matplotlib inline presents"
   ]
  },
  {
   "cell_type": "markdown",
   "metadata": {},
   "source": [
    "### Scripted ploting\n",
    "\n",
    "Python is know for more than just its interactive interpreters; it is also fully fledged programming language that allows its users to easily create programs. Having a script to display plots from daily reports can greatly imporove your productivity. This is a simple example of how to use Matplotlib's ```pyplot``` API and the ```argparse``` Python standard library tool to create a simple CSV plotting script."
   ]
  },
  {
   "cell_type": "markdown",
   "metadata": {},
   "source": [
    "File: chp1/plotfile.py\n",
    "\n",
    "```python\n",
    "#!/usr/bin/env python\n",
    "\n",
    "from argparse import ArgumentParser\n",
    "import matplotlib.pyplot as plt\n",
    "\n",
    "if __name__ == '__main__' :\n",
    "    parser = ArgumentParser(description=\"Plot a CSV file\")\n",
    "    parser.add_argument(\"datafile\", help=\"The CSV file\")\n",
    "    # Require at least one column name\n",
    "    parser.add_argument(\"columns\", nargs='+',\n",
    "                        help=\"Names of columns to plot\")\n",
    "    parser.add_argument(\"--save\", help=\"Save the plot as...\")\n",
    "    parser.add_argument(\"--no-show\", action=\"store_true\",\n",
    "                        help=\"Don't show the plot\")\n",
    "    args = parser.parse_args()\n",
    "    \n",
    "    plt.plotfile(args.datafile, args.columns)\n",
    "    if args.save:\n",
    "        plt.savefig(args.save)\n",
    "    if not args.no_show:\n",
    "        plt.show()\n",
    "```"
   ]
  },
  {
   "cell_type": "code",
   "execution_count": null,
   "metadata": {
    "collapsed": true
   },
   "outputs": [],
   "source": []
  }
 ],
 "metadata": {
  "kernelspec": {
   "display_name": "Python 2",
   "language": "python",
   "name": "python2"
  },
  "language_info": {
   "codemirror_mode": {
    "name": "ipython",
    "version": 2
   },
   "file_extension": ".py",
   "mimetype": "text/x-python",
   "name": "python",
   "nbconvert_exporter": "python",
   "pygments_lexer": "ipython2",
   "version": "2.7.11+"
  }
 },
 "nbformat": 4,
 "nbformat_minor": 0
}
